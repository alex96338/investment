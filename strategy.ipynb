{
 "cells": [
  {
   "cell_type": "code",
   "execution_count": 1,
   "metadata": {},
   "outputs": [],
   "source": [
    "from finlab.data import Data\n",
    "from talib import abstract\n",
    "import pandas as pd\n",
    "import datetime\n",
    "data = Data()\n",
    "data.date = datetime.date(2020,9,18)"
   ]
  },
  {
   "cell_type": "code",
   "execution_count": 37,
   "metadata": {},
   "outputs": [],
   "source": [
    "open_price = data.get('開盤價',60)\n",
    "close_price = data.get('收盤價', 60)\n",
    "BBAND_upper = []\n",
    "BBAND_MA = []\n",
    "BBAND_lower = []\n",
    "for i in close_price.columns:\n",
    "    upper, MA, lower = abstract.BBANDS(close_price[i], timeperiod=20, nbdevup=2.1, nbdevdn=2.1, matype=0)\n",
    "    BBAND_upper.append([upper])\n",
    "    BBAND_MA.append([MA])\n",
    "    BBAND_lower.append([lower])"
   ]
  },
  {
   "cell_type": "code",
   "execution_count": 38,
   "metadata": {},
   "outputs": [],
   "source": [
    "BBAND_upper_df = pd.DataFrame(BBAND_upper[0])\n",
    "BBAND_lower_df = pd.DataFrame(BBAND_lower[0])\n",
    "BBAND_MA_df = pd.DataFrame(BBAND_MA[0])\n",
    "for i in range(len(BBAND_upper)-1):\n",
    "    BBAND_upper_df = pd.DataFrame.append(BBAND_upper_df,BBAND_upper[i+1])\n",
    "    BBAND_lower_df = pd.DataFrame.append(BBAND_lower_df,BBAND_lower[i+1])\n",
    "    BBAND_MA_df = pd.DataFrame.append(BBAND_MA_df,BBAND_MA[i+1])"
   ]
  },
  {
   "cell_type": "code",
   "execution_count": 39,
   "metadata": {},
   "outputs": [],
   "source": [
    "BBAND_upper_3 = []\n",
    "for i in close_price.columns:\n",
    "    upper, MA, lower = abstract.BBANDS(close_price[i], timeperiod=20, nbdevup=3.0, nbdevdn=2.1, matype=0)\n",
    "    BBAND_upper_3.append([upper])\n",
    "BBANDS_upper_df_3 = pd.DataFrame(BBAND_upper_3[0])\n",
    "for i in range(len(BBAND_upper_3)-1):\n",
    "    BBANDS_upper_df_3 = pd.DataFrame.append(BBANDS_upper_df_3,BBAND_upper_3[i+1])"
   ]
  },
  {
   "cell_type": "code",
   "execution_count": 40,
   "metadata": {},
   "outputs": [],
   "source": [
    "BBAND_upper_df.columns = close_price.index\n",
    "BBAND_upper_df.index = close_price.columns\n",
    "BBAND_lower_df.columns = close_price.index\n",
    "BBAND_lower_df.index = close_price.columns\n",
    "BBAND_MA_df.columns = close_price.index\n",
    "BBAND_MA_df.index = close_price.columns\n",
    "BBAND_lower_df = BBAND_lower_df.transpose()\n",
    "BBAND_upper_df = BBAND_upper_df.transpose()\n",
    "BBAND_MA_df = BBAND_MA_df.transpose()\n",
    "BBANDS_upper_df_3.columns = close_price.index\n",
    "BBANDS_upper_df_3.index = close_price.columns\n",
    "BBANDS_upper_df_3 = BBANDS_upper_df_3.transpose()\n",
    "BandWidth = (BBAND_upper_df-BBAND_lower_df)/BBAND_MA_df\n"
   ]
  },
  {
   "cell_type": "code",
   "execution_count": 43,
   "metadata": {},
   "outputs": [
    {
     "data": {
      "text/plain": [
       "stock_id\n",
       "0050    True\n",
       "0051    True\n",
       "0052    True\n",
       "0053    True\n",
       "0055    True\n",
       "        ... \n",
       "9940    True\n",
       "9942    True\n",
       "9943    True\n",
       "9944    True\n",
       "9946    True\n",
       "Length: 601, dtype: bool"
      ]
     },
     "execution_count": 43,
     "metadata": {},
     "output_type": "execute_result"
    }
   ],
   "source": [
    "condition1 = BandWidth.iloc[-1] < 0.15\n",
    "for i in range(10):\n",
    "    condition1 = condition1 & (BandWidth.iloc[-2-i]<0.15)\n",
    "#BandWidth < 15% for at least 10 days"
   ]
  },
  {
   "cell_type": "code",
   "execution_count": 19,
   "metadata": {},
   "outputs": [],
   "source": [
    "condition2 = (close_price.iloc[-1] > BBAND_upper_df.iloc[-1]) & (close_price.iloc[-1] > open_price.iloc[-1])\n",
    "condition2_2 = close_price.iloc[-1] < BBANDS_upper_df_3.iloc[-1]\n",
    "#close price break through BBAND upper and get red candlestick"
   ]
  },
  {
   "cell_type": "code",
   "execution_count": 20,
   "metadata": {},
   "outputs": [],
   "source": [
    "volume = data.get('成交股數',200)\n",
    "volume_average_5 = volume.rolling(5).mean()\n",
    "condition3 = (volume.iloc[-1] > (volume_average_5.iloc[-1]*2)) & (volume.iloc[-1] < (volume_average_5.iloc[-1]*10))\n",
    "#volumn has to be twice greater and 10-time lesser than 5-day average \n",
    "turnover = data.get('成交金額',200)\n",
    "condition4 = turnover.iloc[-1] > 10000000\n",
    "#turnover has to be greater than 10 milllions"
   ]
  },
  {
   "cell_type": "code",
   "execution_count": 21,
   "metadata": {},
   "outputs": [],
   "source": [
    "condition5 = BBAND_MA_df.iloc[-1] > BBAND_MA_df.iloc[-2]\n",
    "#均線翻揚\n",
    "condition6 = close_price.iloc[-1] > close_price.iloc[-21:-2].max()\n",
    "#創20天新高"
   ]
  },
  {
   "cell_type": "code",
   "execution_count": 22,
   "metadata": {},
   "outputs": [
    {
     "data": {
      "text/plain": [
       "stock_id\n",
       "1219    True\n",
       "1795    True\n",
       "1808    True\n",
       "2355    True\n",
       "2374    True\n",
       "2485    True\n",
       "2493    True\n",
       "2495    True\n",
       "3543    True\n",
       "5285    True\n",
       "6505    True\n",
       "6592    True\n",
       "8404    True\n",
       "dtype: bool"
      ]
     },
     "execution_count": 22,
     "metadata": {},
     "output_type": "execute_result"
    }
   ],
   "source": [
    "select = condition1 & condition2 & condition3 & condition4 & condition5 & condition6 & condition2_2\n",
    "select[select]"
   ]
  },
  {
   "cell_type": "code",
   "execution_count": 1,
   "metadata": {},
   "outputs": [],
   "source": [
    "def water(data):\n",
    "    from talib import abstract\n",
    "    import pandas as pd\n",
    "    from finlab.data import Data\n",
    "    open_price = data.get('開盤價',60)\n",
    "    close_price = data.get('收盤價', 60)\n",
    "    BBAND_upper = []\n",
    "    BBAND_MA = []\n",
    "    BBAND_lower = []\n",
    "    \n",
    "    for i in close_price.columns:\n",
    "        upper, MA, lower = abstract.BBANDS(close_price[i], timeperiod=20, nbdevup=2.1, nbdevdn=2.1, matype=0)\n",
    "        BBAND_upper.append([upper])\n",
    "        BBAND_MA.append([MA])\n",
    "        BBAND_lower.append([lower])\n",
    "        \n",
    "    BBAND_upper_df = pd.DataFrame(BBAND_upper[0])\n",
    "    BBAND_lower_df = pd.DataFrame(BBAND_lower[0])\n",
    "    BBAND_MA_df = pd.DataFrame(BBAND_MA[0])\n",
    "    \n",
    "    for i in range(len(BBAND_upper)-1):\n",
    "        BBAND_upper_df = pd.DataFrame.append(BBAND_upper_df,BBAND_upper[i+1])\n",
    "        BBAND_lower_df = pd.DataFrame.append(BBAND_lower_df,BBAND_lower[i+1])\n",
    "        BBAND_MA_df = pd.DataFrame.append(BBAND_MA_df,BBAND_MA[i+1])\n",
    "        \n",
    "    BBAND_upper_3 = []\n",
    "    for i in close_price.columns:\n",
    "        upper, MA, lower = abstract.BBANDS(close_price[i], timeperiod=20, nbdevup=3.0, nbdevdn=2.1, matype=0)\n",
    "        BBAND_upper_3.append([upper])\n",
    "    BBANDS_upper_df_3 = pd.DataFrame(BBAND_upper_3[0])\n",
    "    for i in range(len(BBAND_upper_3)-1):\n",
    "        BBANDS_upper_df_3 = pd.DataFrame.append(BBANDS_upper_df_3,BBAND_upper_3[i+1])\n",
    "        \n",
    "    BBAND_upper_df.columns = close_price.index\n",
    "    BBAND_upper_df.index = close_price.columns\n",
    "    BBAND_lower_df.columns = close_price.index\n",
    "    BBAND_lower_df.index = close_price.columns\n",
    "    BBAND_MA_df.columns = close_price.index\n",
    "    BBAND_MA_df.index = close_price.columns\n",
    "    BBAND_lower_df = BBAND_lower_df.transpose()\n",
    "    BBAND_upper_df = BBAND_upper_df.transpose()\n",
    "    BBAND_MA_df = BBAND_MA_df.transpose()\n",
    "    BBANDS_upper_df_3.columns = close_price.index\n",
    "    BBANDS_upper_df_3.index = close_price.columns\n",
    "    BBANDS_upper_df_3 = BBANDS_upper_df_3.transpose()\n",
    "\n",
    "    BandWidth = (BBAND_upper_df-BBAND_lower_df)/BBAND_MA_df\n",
    "    condition1 = BandWidth.iloc[-1] < 0.15\n",
    "    #for i in range(30):\n",
    "    #    condition1 = condition1 & (BandWidth.iloc[-2-i]<0.15)\n",
    "    condition1_1 = BandWidth.iloc[-1]<0.15\n",
    "    for i in range(15):\n",
    "        condition1_1 = condition1_1 & (BandWidth.iloc[-2-i]<0.15)\n",
    "    #BandWidth < 15% for at least 10 days\n",
    "    condition2 = (close_price.iloc[-1] > BBAND_upper_df.iloc[-1]) & (close_price.iloc[-1] > open_price.iloc[-1])\n",
    "    condition2_2 = close_price.iloc[-1] < BBANDS_upper_df_3.iloc[-1]\n",
    "    #close price break through BBAND upper and get red candlestick\n",
    "    volume = data.get('成交股數',10)\n",
    "    volume_average_5 = volume.rolling(5).mean()\n",
    "    condition3 = (volume.iloc[-1] > (volume_average_5.iloc[-1]*2)) & (volume.iloc[-1] < (volume_average_5.iloc[-1]*10))\n",
    "    #volumn has to be twice greater and 10-time lesser than 5-day average \n",
    "    turnover = data.get('成交金額',1)\n",
    "    condition4 = turnover.iloc[-1] > 10000000\n",
    "    #turnover has to be greater than 10 milllions\n",
    "    condition5 = BBAND_MA_df.iloc[-1] > BBAND_MA_df.iloc[-2]\n",
    "    #均線翻揚\n",
    "    condition6 = close_price.iloc[-1] > close_price.iloc[-21:-2].max()\n",
    "    #創20天新高\n",
    "    select = condition1 & condition2 & condition3 & condition4 & condition5 & condition6 & condition1_1 & condition2_2\n",
    "    return select[select]"
   ]
  },
  {
   "cell_type": "code",
   "execution_count": 2,
   "metadata": {},
   "outputs": [],
   "source": [
    "from finlab.data import Data\n",
    "from talib import abstract\n",
    "import pandas as pd\n",
    "import datetime\n",
    "data = Data()\n",
    "data.date = datetime.date(2021,4,22)\n",
    "stock = water(data)"
   ]
  },
  {
   "cell_type": "code",
   "execution_count": 3,
   "metadata": {
    "scrolled": false
   },
   "outputs": [
    {
     "data": {
      "text/plain": [
       "stock_id\n",
       "1464    True\n",
       "1603    True\n",
       "2536    True\n",
       "2701    True\n",
       "5531    True\n",
       "dtype: bool"
      ]
     },
     "execution_count": 3,
     "metadata": {},
     "output_type": "execute_result"
    }
   ],
   "source": [
    "stock\n",
    "#data.get('收盤價',6)"
   ]
  },
  {
   "cell_type": "code",
   "execution_count": 1,
   "metadata": {},
   "outputs": [],
   "source": [
  }
 ],
 "metadata": {
  "kernelspec": {
   "display_name": "Python 3",
   "language": "python",
   "name": "python3"
  },
  "language_info": {
   "codemirror_mode": {
    "name": "ipython",
    "version": 3
   },
   "file_extension": ".py",
   "mimetype": "text/x-python",
   "name": "python",
   "nbconvert_exporter": "python",
   "pygments_lexer": "ipython3",
   "version": "3.7.4"
  }
 },
 "nbformat": 4,
 "nbformat_minor": 2
}
