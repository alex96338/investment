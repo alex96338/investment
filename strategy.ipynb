def water(data):
    from talib import abstract
    import pandas as pd
    from finlab.data import Data
    open_price = data.get('開盤價',60)
    close_price = data.get('收盤價', 60)
    BBAND_upper = []
    BBAND_MA = []
    BBAND_lower = []
    
    for i in close_price.columns:
        upper, MA, lower = abstract.BBANDS(close_price[i], timeperiod=20, nbdevup=2.1, nbdevdn=2.1, matype=0)
        BBAND_upper.append([upper])
        BBAND_MA.append([MA])
        BBAND_lower.append([lower])
        
    BBAND_upper_df = pd.DataFrame(BBAND_upper[0])
    BBAND_lower_df = pd.DataFrame(BBAND_lower[0])
    BBAND_MA_df = pd.DataFrame(BBAND_MA[0])
    
    for i in range(len(BBAND_upper)-1):
        BBAND_upper_df = pd.DataFrame.append(BBAND_upper_df,BBAND_upper[i+1])
        BBAND_lower_df = pd.DataFrame.append(BBAND_lower_df,BBAND_lower[i+1])
        BBAND_MA_df = pd.DataFrame.append(BBAND_MA_df,BBAND_MA[i+1])
        
    BBAND_upper_3 = []
    for i in close_price.columns:
        upper, MA, lower = abstract.BBANDS(close_price[i], timeperiod=20, nbdevup=3.0, nbdevdn=2.1, matype=0)
        BBAND_upper_3.append([upper])
    BBANDS_upper_df_3 = pd.DataFrame(BBAND_upper_3[0])
    for i in range(len(BBAND_upper_3)-1):
        BBANDS_upper_df_3 = pd.DataFrame.append(BBANDS_upper_df_3,BBAND_upper_3[i+1])
        
    BBAND_upper_df.columns = close_price.index
    BBAND_upper_df.index = close_price.columns
    BBAND_lower_df.columns = close_price.index
    BBAND_lower_df.index = close_price.columns
    BBAND_MA_df.columns = close_price.index
    BBAND_MA_df.index = close_price.columns
    BBAND_lower_df = BBAND_lower_df.transpose()
    BBAND_upper_df = BBAND_upper_df.transpose()
    BBAND_MA_df = BBAND_MA_df.transpose()
    BBANDS_upper_df_3.columns = close_price.index
    BBANDS_upper_df_3.index = close_price.columns
    BBANDS_upper_df_3 = BBANDS_upper_df_3.transpose()

    BandWidth = (BBAND_upper_df-BBAND_lower_df)/BBAND_MA_df
    condition1 = BandWidth.iloc[-1] < 0.15
    #for i in range(30):
    #    condition1 = condition1 & (BandWidth.iloc[-2-i]<0.15)
    condition1_1 = BandWidth.iloc[-1]<0.15
    for i in range(15):
        condition1_1 = condition1_1 & (BandWidth.iloc[-2-i]<0.15)
    #BandWidth < 15% for at least 10 days
    condition2 = (close_price.iloc[-1] > BBAND_upper_df.iloc[-1]) & (close_price.iloc[-1] > open_price.iloc[-1])
    condition2_2 = close_price.iloc[-1] < BBANDS_upper_df_3.iloc[-1]
    #close price break through BBAND upper and get red candlestick
    volume = data.get('成交股數',10)
    volume_average_5 = volume.rolling(5).mean()
    condition3 = (volume.iloc[-1] > (volume_average_5.iloc[-1]*2)) & (volume.iloc[-1] < (volume_average_5.iloc[-1]*10))
    #volumn has to be twice greater and 10-time lesser than 5-day average 
    turnover = data.get('成交金額',1)
    condition4 = turnover.iloc[-1] > 10000000
    #turnover has to be greater than 10 milllions
    condition5 = BBAND_MA_df.iloc[-1] > BBAND_MA_df.iloc[-2]
    #均線翻揚
    condition6 = close_price.iloc[-1] > close_price.iloc[-21:-2].max()
    #創20天新高
    select = condition1 & condition2 & condition3 & condition4 & condition5 & condition6 & condition1_1 & condition2_2
    return select[select]
from finlab.data import Data
from talib import abstract
import pandas as pd
import datetime
data = Data()
data.date = datetime.date(2021,4,22)
stock = water(data)
