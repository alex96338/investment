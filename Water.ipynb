{
 "cells": [
  {
   "cell_type": "code",
   "execution_count": 1,
   "metadata": {},
   "outputs": [],
   "source": [
    "from finlab.data import Data\n",
    "from talib import abstract\n",
    "import pandas as pd\n",
    "import datetime\n",
    "data = Data()\n",
    "data.date = datetime.date(2020,9,18)"
   ]
  },
  {
   "cell_type": "code",
   "execution_count": 37,
   "metadata": {},
   "outputs": [],
   "source": [
    "open_price = data.get('開盤價',60)\n",
    "close_price = data.get('收盤價', 60)\n",
    "BBAND_upper = []\n",
    "BBAND_MA = []\n",
    "BBAND_lower = []\n",
    "for i in close_price.columns:\n",
    "    upper, MA, lower = abstract.BBANDS(close_price[i], timeperiod=20, nbdevup=2.1, nbdevdn=2.1, matype=0)\n",
    "    BBAND_upper.append([upper])\n",
    "    BBAND_MA.append([MA])\n",
    "    BBAND_lower.append([lower])"
   ]
  },
  {
   "cell_type": "code",
   "execution_count": 38,
   "metadata": {},
   "outputs": [],
   "source": [
    "BBAND_upper_df = pd.DataFrame(BBAND_upper[0])\n",
    "BBAND_lower_df = pd.DataFrame(BBAND_lower[0])\n",
    "BBAND_MA_df = pd.DataFrame(BBAND_MA[0])\n",
    "for i in range(len(BBAND_upper)-1):\n",
    "    BBAND_upper_df = pd.DataFrame.append(BBAND_upper_df,BBAND_upper[i+1])\n",
    "    BBAND_lower_df = pd.DataFrame.append(BBAND_lower_df,BBAND_lower[i+1])\n",
    "    BBAND_MA_df = pd.DataFrame.append(BBAND_MA_df,BBAND_MA[i+1])"
   ]
  },
  {
   "cell_type": "code",
   "execution_count": 39,
   "metadata": {},
   "outputs": [],
   "source": [
    "BBAND_upper_3 = []\n",
    "for i in close_price.columns:\n",
    "    upper, MA, lower = abstract.BBANDS(close_price[i], timeperiod=20, nbdevup=3.0, nbdevdn=2.1, matype=0)\n",
    "    BBAND_upper_3.append([upper])\n",
    "BBANDS_upper_df_3 = pd.DataFrame(BBAND_upper_3[0])\n",
    "for i in range(len(BBAND_upper_3)-1):\n",
    "    BBANDS_upper_df_3 = pd.DataFrame.append(BBANDS_upper_df_3,BBAND_upper_3[i+1])"
   ]
  },
  {
   "cell_type": "code",
   "execution_count": 40,
   "metadata": {},
   "outputs": [],
   "source": [
    "BBAND_upper_df.columns = close_price.index\n",
    "BBAND_upper_df.index = close_price.columns\n",
    "BBAND_lower_df.columns = close_price.index\n",
    "BBAND_lower_df.index = close_price.columns\n",
    "BBAND_MA_df.columns = close_price.index\n",
    "BBAND_MA_df.index = close_price.columns\n",
    "BBAND_lower_df = BBAND_lower_df.transpose()\n",
    "BBAND_upper_df = BBAND_upper_df.transpose()\n",
    "BBAND_MA_df = BBAND_MA_df.transpose()\n",
    "BBANDS_upper_df_3.columns = close_price.index\n",
    "BBANDS_upper_df_3.index = close_price.columns\n",
    "BBANDS_upper_df_3 = BBANDS_upper_df_3.transpose()\n",
    "BandWidth = (BBAND_upper_df-BBAND_lower_df)/BBAND_MA_df\n"
   ]
  },
  {
   "cell_type": "code",
   "execution_count": 43,
   "metadata": {},
   "outputs": [
    {
     "data": {
      "text/plain": [
       "stock_id\n",
       "0050    True\n",
       "0051    True\n",
       "0052    True\n",
       "0053    True\n",
       "0055    True\n",
       "        ... \n",
       "9940    True\n",
       "9942    True\n",
       "9943    True\n",
       "9944    True\n",
       "9946    True\n",
       "Length: 601, dtype: bool"
      ]
     },
     "execution_count": 43,
     "metadata": {},
     "output_type": "execute_result"
    }
   ],
   "source": [
    "condition1 = BandWidth.iloc[-1] < 0.15\n",
    "for i in range(10):\n",
    "    condition1 = condition1 & (BandWidth.iloc[-2-i]<0.15)\n",
    "#BandWidth < 15% for at least 10 days"
   ]
  },
  {
   "cell_type": "code",
   "execution_count": 19,
   "metadata": {},
   "outputs": [],
   "source": [
    "condition2 = (close_price.iloc[-1] > BBAND_upper_df.iloc[-1]) & (close_price.iloc[-1] > open_price.iloc[-1])\n",
    "condition2_2 = close_price.iloc[-1] < BBANDS_upper_df_3.iloc[-1]\n",
    "#close price break through BBAND upper and get red candlestick"
   ]
  },
  {
   "cell_type": "code",
   "execution_count": 20,
   "metadata": {},
   "outputs": [],
   "source": [
    "volume = data.get('成交股數',200)\n",
    "volume_average_5 = volume.rolling(5).mean()\n",
    "condition3 = (volume.iloc[-1] > (volume_average_5.iloc[-1]*2)) & (volume.iloc[-1] < (volume_average_5.iloc[-1]*10))\n",
    "#volumn has to be twice greater and 10-time lesser than 5-day average \n",
    "turnover = data.get('成交金額',200)\n",
    "condition4 = turnover.iloc[-1] > 10000000\n",
    "#turnover has to be greater than 10 milllions"
   ]
  },
  {
   "cell_type": "code",
   "execution_count": 21,
   "metadata": {},
   "outputs": [],
   "source": [
    "condition5 = BBAND_MA_df.iloc[-1] > BBAND_MA_df.iloc[-2]\n",
    "#均線翻揚\n",
    "condition6 = close_price.iloc[-1] > close_price.iloc[-21:-2].max()\n",
    "#創20天新高"
   ]
  },
  {
   "cell_type": "code",
   "execution_count": 22,
   "metadata": {},
   "outputs": [
    {
     "data": {
      "text/plain": [
       "stock_id\n",
       "1219    True\n",
       "1795    True\n",
       "1808    True\n",
       "2355    True\n",
       "2374    True\n",
       "2485    True\n",
       "2493    True\n",
       "2495    True\n",
       "3543    True\n",
       "5285    True\n",
       "6505    True\n",
       "6592    True\n",
       "8404    True\n",
       "dtype: bool"
      ]
     },
     "execution_count": 22,
     "metadata": {},
     "output_type": "execute_result"
    }
   ],
   "source": [
    "select = condition1 & condition2 & condition3 & condition4 & condition5 & condition6 & condition2_2\n",
    "select[select]"
   ]
  },
  {
   "cell_type": "code",
   "execution_count": 1,
   "metadata": {},
   "outputs": [],
   "source": [
    "def water(data):\n",
    "    from talib import abstract\n",
    "    import pandas as pd\n",
    "    from finlab.data import Data\n",
    "    open_price = data.get('開盤價',60)\n",
    "    close_price = data.get('收盤價', 60)\n",
    "    BBAND_upper = []\n",
    "    BBAND_MA = []\n",
    "    BBAND_lower = []\n",
    "    \n",
    "    for i in close_price.columns:\n",
    "        upper, MA, lower = abstract.BBANDS(close_price[i], timeperiod=20, nbdevup=2.1, nbdevdn=2.1, matype=0)\n",
    "        BBAND_upper.append([upper])\n",
    "        BBAND_MA.append([MA])\n",
    "        BBAND_lower.append([lower])\n",
    "        \n",
    "    BBAND_upper_df = pd.DataFrame(BBAND_upper[0])\n",
    "    BBAND_lower_df = pd.DataFrame(BBAND_lower[0])\n",
    "    BBAND_MA_df = pd.DataFrame(BBAND_MA[0])\n",
    "    \n",
    "    for i in range(len(BBAND_upper)-1):\n",
    "        BBAND_upper_df = pd.DataFrame.append(BBAND_upper_df,BBAND_upper[i+1])\n",
    "        BBAND_lower_df = pd.DataFrame.append(BBAND_lower_df,BBAND_lower[i+1])\n",
    "        BBAND_MA_df = pd.DataFrame.append(BBAND_MA_df,BBAND_MA[i+1])\n",
    "        \n",
    "    BBAND_upper_3 = []\n",
    "    for i in close_price.columns:\n",
    "        upper, MA, lower = abstract.BBANDS(close_price[i], timeperiod=20, nbdevup=3.0, nbdevdn=2.1, matype=0)\n",
    "        BBAND_upper_3.append([upper])\n",
    "    BBANDS_upper_df_3 = pd.DataFrame(BBAND_upper_3[0])\n",
    "    for i in range(len(BBAND_upper_3)-1):\n",
    "        BBANDS_upper_df_3 = pd.DataFrame.append(BBANDS_upper_df_3,BBAND_upper_3[i+1])\n",
    "        \n",
    "    BBAND_upper_df.columns = close_price.index\n",
    "    BBAND_upper_df.index = close_price.columns\n",
    "    BBAND_lower_df.columns = close_price.index\n",
    "    BBAND_lower_df.index = close_price.columns\n",
    "    BBAND_MA_df.columns = close_price.index\n",
    "    BBAND_MA_df.index = close_price.columns\n",
    "    BBAND_lower_df = BBAND_lower_df.transpose()\n",
    "    BBAND_upper_df = BBAND_upper_df.transpose()\n",
    "    BBAND_MA_df = BBAND_MA_df.transpose()\n",
    "    BBANDS_upper_df_3.columns = close_price.index\n",
    "    BBANDS_upper_df_3.index = close_price.columns\n",
    "    BBANDS_upper_df_3 = BBANDS_upper_df_3.transpose()\n",
    "\n",
    "    BandWidth = (BBAND_upper_df-BBAND_lower_df)/BBAND_MA_df\n",
    "    condition1 = BandWidth.iloc[-1] < 0.15\n",
    "    #for i in range(30):\n",
    "    #    condition1 = condition1 & (BandWidth.iloc[-2-i]<0.15)\n",
    "    condition1_1 = BandWidth.iloc[-1]<0.15\n",
    "    for i in range(15):\n",
    "        condition1_1 = condition1_1 & (BandWidth.iloc[-2-i]<0.15)\n",
    "    #BandWidth < 15% for at least 10 days\n",
    "    condition2 = (close_price.iloc[-1] > BBAND_upper_df.iloc[-1]) & (close_price.iloc[-1] > open_price.iloc[-1])\n",
    "    condition2_2 = close_price.iloc[-1] < BBANDS_upper_df_3.iloc[-1]\n",
    "    #close price break through BBAND upper and get red candlestick\n",
    "    volume = data.get('成交股數',10)\n",
    "    volume_average_5 = volume.rolling(5).mean()\n",
    "    condition3 = (volume.iloc[-1] > (volume_average_5.iloc[-1]*2)) & (volume.iloc[-1] < (volume_average_5.iloc[-1]*10))\n",
    "    #volumn has to be twice greater and 10-time lesser than 5-day average \n",
    "    turnover = data.get('成交金額',1)\n",
    "    condition4 = turnover.iloc[-1] > 10000000\n",
    "    #turnover has to be greater than 10 milllions\n",
    "    condition5 = BBAND_MA_df.iloc[-1] > BBAND_MA_df.iloc[-2]\n",
    "    #均線翻揚\n",
    "    condition6 = close_price.iloc[-1] > close_price.iloc[-21:-2].max()\n",
    "    #創20天新高\n",
    "    select = condition1 & condition2 & condition3 & condition4 & condition5 & condition6 & condition1_1 & condition2_2\n",
    "    return select[select]"
   ]
  },
  {
   "cell_type": "code",
   "execution_count": 2,
   "metadata": {},
   "outputs": [],
   "source": [
    "from finlab.data import Data\n",
    "from talib import abstract\n",
    "import pandas as pd\n",
    "import datetime\n",
    "data = Data()\n",
    "data.date = datetime.date(2021,4,22)\n",
    "stock = water(data)"
   ]
  },
  {
   "cell_type": "code",
   "execution_count": 3,
   "metadata": {
    "scrolled": false
   },
   "outputs": [
    {
     "data": {
      "text/plain": [
       "stock_id\n",
       "1464    True\n",
       "1603    True\n",
       "2536    True\n",
       "2701    True\n",
       "5531    True\n",
       "dtype: bool"
      ]
     },
     "execution_count": 3,
     "metadata": {},
     "output_type": "execute_result"
    }
   ],
   "source": [
    "stock\n",
    "#data.get('收盤價',6)"
   ]
  },
  {
   "cell_type": "code",
   "execution_count": 1,
   "metadata": {},
   "outputs": [],
   "source": [
    "import pandas as pd\n",
    "def mystrategy(data):\n",
    "    \n",
    "    close = data.get(\"收盤價\", 120)\n",
    "    condition1 = close.max() / close.min()\n",
    "    \n",
    "    rev = data.get(\"當月營收\", 14)\n",
    "    condition2 = (rev.iloc[-1] / rev.iloc[-13]) \n",
    "    condition3 = (rev.iloc[-2] / rev.iloc[-14])\n",
    "    \n",
    "    close_60_days = close.rolling(60).mean()\n",
    "    condition5 = close_60_days.iloc[-1] > close_60_days.iloc[-15]\n",
    "    \n",
    "    稅後淨利 = data.get('本期淨利（淨損）', 5)\n",
    "    # 股東權益，有兩個名稱，有些公司叫做權益總計，有些叫做權益總額\n",
    "    # 所以得把它們抓出來\n",
    "    權益總計 = data.get('權益總計', 5)\n",
    "    權益總額 = data.get('權益總額', 5)\n",
    "    # 並且把它們合併起來\n",
    "    權益總計.fillna(權益總額, inplace=True)\n",
    "    roe = 稅後淨利 / 權益總計\n",
    "    condition4 = roe.iloc[-1] / roe.iloc[-5]\n",
    "    \n",
    "    select_stock = (\n",
    "        condition1.rank() + # 該數值越小越好\n",
    "        condition2.rank(ascending=False) + # 該值越大越好\n",
    "        condition3.rank(ascending=False) + # 該值越大越好\n",
    "        condition4.rank(ascending=False)   # 該值越大越好\n",
    "    ).rank() <= 10\n",
    "    \n",
    "    return select_stock[select_stock]"
   ]
  },
  {
   "cell_type": "code",
   "execution_count": 9,
   "metadata": {},
   "outputs": [
    {
     "name": "stdout",
     "output_type": "stream",
     "text": [
      "estimate price according to 2020-09-30 00:00:00\n",
      "initial number of stock 10\n",
      "after considering fee 10\n",
      "after considering 1000 share 9\n",
      "---------------\n",
      "|  portfolio  |\n",
      "---------------\n",
      "stock_id\n",
      "1558     1.0\n",
      "2530    14.0\n",
      "2536     9.0\n",
      "3530     2.0\n",
      "3706     7.0\n",
      "4935     2.0\n",
      "6277     2.0\n",
      "6281     3.0\n",
      "9958     1.0\n",
      "Name: 2020-09-30 00:00:00, dtype: float64\n",
      "total cost\n",
      "1645050.0\n"
     ]
    }
   ],
   "source": [
    "from finlab.data import Data\n",
    "from finlab.backtest import portfolio\n",
    "from talib import abstract\n",
    "import pandas as pd\n",
    "import datetime\n",
    "data = Data()\n",
    "data.date = datetime.date(2020,10,1)\n",
    "stock = mystrategy(data)\n",
    "p, total_invest_money = portfolio(stock.index, 2000000, data)\n",
    "print('---------------')\n",
    "print('|  portfolio  |')\n",
    "print('---------------')\n",
    "print(p)\n",
    "print('total cost')\n",
    "print(total_invest_money)"
   ]
  },
  {
   "cell_type": "code",
   "execution_count": 44,
   "metadata": {},
   "outputs": [
    {
     "ename": "NameError",
     "evalue": "name 'water' is not defined",
     "output_type": "error",
     "traceback": [
      "\u001b[1;31m---------------------------------------------------------------------------\u001b[0m",
      "\u001b[1;31mNameError\u001b[0m                                 Traceback (most recent call last)",
      "\u001b[1;32m<ipython-input-44-9909f885150c>\u001b[0m in \u001b[0;36m<module>\u001b[1;34m\u001b[0m\n\u001b[0;32m      5\u001b[0m \u001b[0mget_ipython\u001b[0m\u001b[1;33m(\u001b[0m\u001b[1;33m)\u001b[0m\u001b[1;33m.\u001b[0m\u001b[0mrun_line_magic\u001b[0m\u001b[1;33m(\u001b[0m\u001b[1;34m'matplotlib'\u001b[0m\u001b[1;33m,\u001b[0m \u001b[1;34m'inline'\u001b[0m\u001b[1;33m)\u001b[0m\u001b[1;33m\u001b[0m\u001b[1;33m\u001b[0m\u001b[0m\n\u001b[0;32m      6\u001b[0m \u001b[0mdata\u001b[0m \u001b[1;33m=\u001b[0m \u001b[0mData\u001b[0m\u001b[1;33m(\u001b[0m\u001b[1;33m)\u001b[0m\u001b[1;33m\u001b[0m\u001b[1;33m\u001b[0m\u001b[0m\n\u001b[1;32m----> 7\u001b[1;33m \u001b[0mbacktest\u001b[0m\u001b[1;33m(\u001b[0m\u001b[0mdatetime\u001b[0m\u001b[1;33m.\u001b[0m\u001b[0mdate\u001b[0m\u001b[1;33m(\u001b[0m\u001b[1;36m2020\u001b[0m\u001b[1;33m,\u001b[0m\u001b[1;36m7\u001b[0m\u001b[1;33m,\u001b[0m\u001b[1;36m26\u001b[0m\u001b[1;33m)\u001b[0m\u001b[1;33m,\u001b[0m \u001b[0mdatetime\u001b[0m\u001b[1;33m.\u001b[0m\u001b[0mdate\u001b[0m\u001b[1;33m(\u001b[0m\u001b[1;36m2020\u001b[0m\u001b[1;33m,\u001b[0m\u001b[1;36m8\u001b[0m\u001b[1;33m,\u001b[0m\u001b[1;36m5\u001b[0m\u001b[1;33m)\u001b[0m\u001b[1;33m,\u001b[0m \u001b[0mwater\u001b[0m \u001b[1;33m,\u001b[0m \u001b[0mdata\u001b[0m\u001b[1;33m)\u001b[0m\u001b[1;33m\u001b[0m\u001b[1;33m\u001b[0m\u001b[0m\n\u001b[0m",
      "\u001b[1;32m~\\Desktop\\Python\\Stock\\finlab\\backtest_MA.py\u001b[0m in \u001b[0;36mbacktest\u001b[1;34m(start_date, end_date, strategy, data, weight, benchmark, stop_loss_MA, stop_profit_MA)\u001b[0m\n\u001b[0;32m     14\u001b[0m         \u001b[0mtemp_open_price\u001b[0m \u001b[1;33m=\u001b[0m \u001b[0mopen_price\u001b[0m\u001b[1;33m.\u001b[0m\u001b[0mloc\u001b[0m\u001b[1;33m[\u001b[0m\u001b[1;33m:\u001b[0m\u001b[0mdate\u001b[0m\u001b[1;33m]\u001b[0m\u001b[1;33m\u001b[0m\u001b[1;33m\u001b[0m\u001b[0m\n\u001b[0;32m     15\u001b[0m         \u001b[0mtemp_close_price\u001b[0m \u001b[1;33m=\u001b[0m \u001b[0mclose_price\u001b[0m\u001b[1;33m.\u001b[0m\u001b[0mloc\u001b[0m\u001b[1;33m[\u001b[0m\u001b[1;33m:\u001b[0m\u001b[0mdate\u001b[0m\u001b[1;33m]\u001b[0m\u001b[1;33m\u001b[0m\u001b[1;33m\u001b[0m\u001b[0m\n\u001b[1;32m---> 16\u001b[1;33m         \u001b[0mstock\u001b[0m \u001b[1;33m=\u001b[0m \u001b[0mpd\u001b[0m\u001b[1;33m.\u001b[0m\u001b[0mDataFrame\u001b[0m\u001b[1;33m(\u001b[0m\u001b[0mwater\u001b[0m\u001b[1;33m(\u001b[0m\u001b[0mtemp_open_price\u001b[0m\u001b[1;33m,\u001b[0m\u001b[0mtemp_close_price\u001b[0m\u001b[1;33m,\u001b[0m\u001b[0mdata\u001b[0m\u001b[1;33m)\u001b[0m\u001b[1;33m)\u001b[0m\u001b[1;33m\u001b[0m\u001b[1;33m\u001b[0m\u001b[0m\n\u001b[0m\u001b[0;32m     17\u001b[0m         \u001b[1;32mif\u001b[0m \u001b[1;32mnot\u001b[0m \u001b[0mstock\u001b[0m\u001b[1;33m.\u001b[0m\u001b[0mempty\u001b[0m\u001b[1;33m:\u001b[0m\u001b[1;33m\u001b[0m\u001b[1;33m\u001b[0m\u001b[0m\n\u001b[0;32m     18\u001b[0m             \u001b[0mstock\u001b[0m\u001b[1;33m[\u001b[0m\u001b[1;34m'buy_date'\u001b[0m\u001b[1;33m]\u001b[0m \u001b[1;33m=\u001b[0m \u001b[0mdate\u001b[0m\u001b[1;33m\u001b[0m\u001b[1;33m\u001b[0m\u001b[0m\n",
      "\u001b[1;31mNameError\u001b[0m: name 'water' is not defined"
     ]
    }
   ],
   "source": [
    "from finlab.backtest_MA import backtest\n",
    "from finlab.data import Data\n",
    "import datetime\n",
    "\n",
    "%matplotlib inline\n",
    "data = Data()\n",
    "backtest(datetime.date(2020,7,26), datetime.date(2020,8,5), water , data)"
   ]
  }
 ],
 "metadata": {
  "kernelspec": {
   "display_name": "Python 3",
   "language": "python",
   "name": "python3"
  },
  "language_info": {
   "codemirror_mode": {
    "name": "ipython",
    "version": 3
   },
   "file_extension": ".py",
   "mimetype": "text/x-python",
   "name": "python",
   "nbconvert_exporter": "python",
   "pygments_lexer": "ipython3",
   "version": "3.7.4"
  }
 },
 "nbformat": 4,
 "nbformat_minor": 2
}
